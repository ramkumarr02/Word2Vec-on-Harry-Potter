{
  "nbformat": 4,
  "nbformat_minor": 0,
  "metadata": {
    "colab": {
      "name": "Word2Vec on HP v1.1.ipynb",
      "provenance": [],
      "collapsed_sections": [],
      "toc_visible": true,
      "include_colab_link": true
    },
    "kernelspec": {
      "name": "python3",
      "display_name": "Python 3"
    }
  },
  "cells": [
    {
      "cell_type": "markdown",
      "metadata": {
        "id": "view-in-github",
        "colab_type": "text"
      },
      "source": [
        "<a href=\"https://colab.research.google.com/github/ramkumarr02/Word2Vec-on-Harry-Potter/blob/master/Word2Vec_on_HP_v1_1.ipynb\" target=\"_parent\"><img src=\"https://colab.research.google.com/assets/colab-badge.svg\" alt=\"Open In Colab\"/></a>"
      ]
    },
    {
      "cell_type": "markdown",
      "metadata": {
        "id": "rXRnobzZ1AS5",
        "colab_type": "text"
      },
      "source": [
        "# Packages"
      ]
    },
    {
      "cell_type": "code",
      "metadata": {
        "id": "JBfb_wqE-Kzp",
        "colab_type": "code",
        "colab": {}
      },
      "source": [
        "import numpy as np\n",
        "import pandas as pd\n",
        "import re\n",
        "import nltk\n",
        "from time import time\n",
        "from nltk.tokenize import word_tokenize\n",
        "from nltk.tokenize import sent_tokenize\n",
        "\n",
        "from nltk.stem.wordnet import WordNetLemmatizer\n",
        "from nltk.corpus import stopwords\n",
        "\n",
        "from gensim.models import Word2Vec\n",
        "from gensim.models.phrases import Phrases, Phraser\n",
        "\n",
        "from sklearn.decomposition import PCA\n",
        "from matplotlib import pyplot\n",
        "from gensim.models import KeyedVectors"
      ],
      "execution_count": 0,
      "outputs": []
    },
    {
      "cell_type": "code",
      "metadata": {
        "id": "p1_4F8nSXzHk",
        "colab_type": "code",
        "outputId": "369f73eb-d60f-4b2d-d91a-28a234e19234",
        "colab": {
          "base_uri": "https://localhost:8080/",
          "height": 121
        }
      },
      "source": [
        "nltk.download('punkt')\n",
        "nltk.download('wordnet')\n",
        "nltk.download('stopwords')\n",
        "stopwords = stopwords.words('english')"
      ],
      "execution_count": 2,
      "outputs": [
        {
          "output_type": "stream",
          "text": [
            "[nltk_data] Downloading package punkt to /root/nltk_data...\n",
            "[nltk_data]   Package punkt is already up-to-date!\n",
            "[nltk_data] Downloading package wordnet to /root/nltk_data...\n",
            "[nltk_data]   Package wordnet is already up-to-date!\n",
            "[nltk_data] Downloading package stopwords to /root/nltk_data...\n",
            "[nltk_data]   Package stopwords is already up-to-date!\n"
          ],
          "name": "stdout"
        }
      ]
    },
    {
      "cell_type": "markdown",
      "metadata": {
        "id": "B8fjSXVm1D7R",
        "colab_type": "text"
      },
      "source": [
        "# Data"
      ]
    },
    {
      "cell_type": "markdown",
      "metadata": {
        "id": "GyWXPYnZidS7",
        "colab_type": "text"
      },
      "source": [
        "##Reading from Github repo"
      ]
    },
    {
      "cell_type": "code",
      "metadata": {
        "id": "G7z40Ts5Dwem",
        "colab_type": "code",
        "outputId": "eeeb37fa-34dd-4fcd-99d5-d66ea11c9d61",
        "colab": {
          "base_uri": "https://localhost:8080/",
          "height": 34
        }
      },
      "source": [
        "!git clone https://github.com/ramkumarr02/Forked-whiteboard.git"
      ],
      "execution_count": 3,
      "outputs": [
        {
          "output_type": "stream",
          "text": [
            "fatal: destination path 'Forked-whiteboard' already exists and is not an empty directory.\n"
          ],
          "name": "stdout"
        }
      ]
    },
    {
      "cell_type": "code",
      "metadata": {
        "id": "53boKPESBg9x",
        "colab_type": "code",
        "colab": {}
      },
      "source": [
        "hp1 = \"/content/Forked-whiteboard/nbviewer/notebooks/data/harrypotter/Book 1 - The Philosopher's Stone.txt\"\n",
        "hp2 = \"/content/Forked-whiteboard/nbviewer/notebooks/data/harrypotter/Book 2 - The Chamber of Secrets.txt\"\n",
        "hp3 = \"/content/Forked-whiteboard/nbviewer/notebooks/data/harrypotter/Book 3 - The Prisoner of Azkaban.txt\"\n",
        "hp4 = \"/content/Forked-whiteboard/nbviewer/notebooks/data/harrypotter/Book 4 - The Goblet of Fire.txt\"\n",
        "hp5 = \"/content/Forked-whiteboard/nbviewer/notebooks/data/harrypotter/Book 5 - The Order of the Phoenix.txt\"\n",
        "hp6 = \"/content/Forked-whiteboard/nbviewer/notebooks/data/harrypotter/Book 6 - The Half Blood Prince.txt\"\n",
        "hp7 = \"/content/Forked-whiteboard/nbviewer/notebooks/data/harrypotter/Book 7 - The Deathly Hallows.txt\""
      ],
      "execution_count": 0,
      "outputs": []
    },
    {
      "cell_type": "code",
      "metadata": {
        "id": "fuabco_EHi0M",
        "colab_type": "code",
        "colab": {}
      },
      "source": [
        "hp_series = [hp1, hp2, hp3, hp4, hp5, hp6, hp7]"
      ],
      "execution_count": 0,
      "outputs": []
    },
    {
      "cell_type": "code",
      "metadata": {
        "id": "iqGCeShZFqH4",
        "colab_type": "code",
        "colab": {}
      },
      "source": [
        "def read_txt(file_name):\n",
        "    with open(file_name, 'r') as f:\n",
        "        text = f.readlines()    \n",
        "    text_blob = ''.join(text)\n",
        "    print(\"file_name : \", len(text_blob))\n",
        "\n",
        "    return(text_blob)"
      ],
      "execution_count": 0,
      "outputs": []
    },
    {
      "cell_type": "markdown",
      "metadata": {
        "id": "ga0PM9b71IAH",
        "colab_type": "text"
      },
      "source": [
        "## Join all 7 books together"
      ]
    },
    {
      "cell_type": "code",
      "metadata": {
        "id": "KQ-KpOvFyirQ",
        "colab_type": "code",
        "outputId": "e7961769-7ae8-4ae9-8f17-6f2dc6b9547b",
        "colab": {
          "base_uri": "https://localhost:8080/",
          "height": 260
        }
      },
      "source": [
        "series = \"\"\n",
        "for book in hp_series:\n",
        "    book = read_txt(book)\n",
        "    book = book.lower()    \n",
        "    series = series + book\n",
        "    print(len(series))    "
      ],
      "execution_count": 7,
      "outputs": [
        {
          "output_type": "stream",
          "text": [
            "file_name :  474429\n",
            "474429\n",
            "file_name :  531708\n",
            "1006137\n",
            "file_name :  676978\n",
            "1683115\n",
            "file_name :  1187250\n",
            "2870365\n",
            "file_name :  1608763\n",
            "4479128\n",
            "file_name :  1059022\n",
            "5538150\n",
            "file_name :  1227024\n",
            "6765174\n"
          ],
          "name": "stdout"
        }
      ]
    },
    {
      "cell_type": "markdown",
      "metadata": {
        "id": "hC_CIm041jgr",
        "colab_type": "text"
      },
      "source": [
        "## Data Preprocessing"
      ]
    },
    {
      "cell_type": "markdown",
      "metadata": {
        "id": "r2YS497Z1OF1",
        "colab_type": "text"
      },
      "source": [
        "### Remove the footer from all pages"
      ]
    },
    {
      "cell_type": "code",
      "metadata": {
        "id": "Slrsm-dKyUDh",
        "colab_type": "code",
        "colab": {}
      },
      "source": [
        "reg_pattern = r\"page \\|(.*)\"\n",
        "series = re.sub(pattern = reg_pattern, repl= '', string = series)"
      ],
      "execution_count": 0,
      "outputs": []
    },
    {
      "cell_type": "code",
      "metadata": {
        "id": "qUkYSgHPwvVA",
        "colab_type": "code",
        "colab": {}
      },
      "source": [
        "with open(\"temp.txt\", \"w\") as text_file:\n",
        "    text_file.write(series)"
      ],
      "execution_count": 0,
      "outputs": []
    },
    {
      "cell_type": "markdown",
      "metadata": {
        "id": "hhOc6Zq41S5W",
        "colab_type": "text"
      },
      "source": [
        "### Tokenize words by sentences"
      ]
    },
    {
      "cell_type": "code",
      "metadata": {
        "id": "WpJ87JufXq2A",
        "colab_type": "code",
        "colab": {}
      },
      "source": [
        "sent_tokens = sent_tokenize(series)"
      ],
      "execution_count": 0,
      "outputs": []
    },
    {
      "cell_type": "code",
      "metadata": {
        "id": "dLsL9tDrYRQg",
        "colab_type": "code",
        "outputId": "dc4cf3ac-0b96-47dc-bdb5-caf0c71bf991",
        "colab": {
          "base_uri": "https://localhost:8080/",
          "height": 34
        }
      },
      "source": [
        "t1 = time()\n",
        "sents = []\n",
        "corpus = []\n",
        "for sent in sent_tokens:\n",
        "    words = word_tokenize(sent)    \n",
        "    sents.append([words, \"~\"])    \n",
        "\n",
        "t2 = time()\n",
        "print(\"Time Elapsed : \",round(((t2- t1)/60),2),\" mins\")"
      ],
      "execution_count": 11,
      "outputs": [
        {
          "output_type": "stream",
          "text": [
            "Time Elapsed :  0.17  mins\n"
          ],
          "name": "stdout"
        }
      ]
    },
    {
      "cell_type": "code",
      "metadata": {
        "id": "vktkFunddAlo",
        "colab_type": "code",
        "colab": {}
      },
      "source": [
        "flat_tokens = [item for sublist in sents for item in sublist]     \n",
        "flat_tokens = [item for sublist in flat_tokens for item in sublist]     "
      ],
      "execution_count": 0,
      "outputs": []
    },
    {
      "cell_type": "markdown",
      "metadata": {
        "id": "ugbDf2WY1cE7",
        "colab_type": "text"
      },
      "source": [
        "### Remove stopwords and lemmatize"
      ]
    },
    {
      "cell_type": "code",
      "metadata": {
        "id": "277SpIo_vKYb",
        "colab_type": "code",
        "colab": {}
      },
      "source": [
        "lmtzr = WordNetLemmatizer()"
      ],
      "execution_count": 0,
      "outputs": []
    },
    {
      "cell_type": "code",
      "metadata": {
        "id": "O3Zy3FVzz5k_",
        "colab_type": "code",
        "colab": {}
      },
      "source": [
        "additional_stopwords = ['the', 'rowling', 'wa']"
      ],
      "execution_count": 0,
      "outputs": []
    },
    {
      "cell_type": "code",
      "metadata": {
        "id": "GxHLVIgM2dp3",
        "colab_type": "code",
        "colab": {}
      },
      "source": [
        "stoplist = [stopwords, additional_stopwords]"
      ],
      "execution_count": 0,
      "outputs": []
    },
    {
      "cell_type": "code",
      "metadata": {
        "id": "Kg2LcgvydOw4",
        "colab_type": "code",
        "colab": {}
      },
      "source": [
        "def cleantext(tokens, stoplist):    \n",
        "    tokens = [lmtzr.lemmatize(word) for word in tokens if word == \"~\" or word.isalpha()]\n",
        "    tokens = [lmtzr.lemmatize(word) for word in tokens if word == \"~\" or len(word)>1]\n",
        "     \n",
        "    for words in stoplist:\n",
        "        tokens = [lmtzr.lemmatize(word) for word in tokens if word == \"~\" or not word in words]\n",
        "    return(tokens)"
      ],
      "execution_count": 0,
      "outputs": []
    },
    {
      "cell_type": "code",
      "metadata": {
        "id": "yF8nRyeldTry",
        "colab_type": "code",
        "outputId": "1d0cf3b3-da27-444a-a9c8-54191c9de86e",
        "colab": {
          "base_uri": "https://localhost:8080/",
          "height": 52
        }
      },
      "source": [
        "%%time\n",
        "clean_tokens = cleantext(flat_tokens, stoplist)"
      ],
      "execution_count": 17,
      "outputs": [
        {
          "output_type": "stream",
          "text": [
            "CPU times: user 15.4 s, sys: 89 ms, total: 15.5 s\n",
            "Wall time: 15.5 s\n"
          ],
          "name": "stdout"
        }
      ]
    },
    {
      "cell_type": "code",
      "metadata": {
        "id": "_o9XdW3Sd9N4",
        "colab_type": "code",
        "outputId": "4396d5e4-4b7e-41d9-d177-64fa4230861b",
        "colab": {
          "base_uri": "https://localhost:8080/",
          "height": 34
        }
      },
      "source": [
        "print(f'{len(flat_tokens)} flat_tokens got reduced to {len(clean_tokens)} clean_tokens')"
      ],
      "execution_count": 18,
      "outputs": [
        {
          "output_type": "stream",
          "text": [
            "1478559 flat_tokens got reduced to 622755 clean_tokens\n"
          ],
          "name": "stdout"
        }
      ]
    },
    {
      "cell_type": "markdown",
      "metadata": {
        "id": "z_D7bOz71tbO",
        "colab_type": "text"
      },
      "source": [
        "### Create list of lists"
      ]
    },
    {
      "cell_type": "code",
      "metadata": {
        "colab_type": "code",
        "id": "s3TkONXEfwkF",
        "outputId": "cc04c0b6-98f2-418c-bc0a-fb532eb6ea1d",
        "colab": {
          "base_uri": "https://localhost:8080/",
          "height": 52
        }
      },
      "source": [
        "%%time\n",
        "\n",
        "sent = []\n",
        "corpus = []\n",
        "for word in clean_tokens:\n",
        "    if word != \"~\":\n",
        "        sent.append(word)\n",
        "    elif word == \"~\":\n",
        "        corpus.append(sent)\n",
        "        sent = []   "
      ],
      "execution_count": 20,
      "outputs": [
        {
          "output_type": "stream",
          "text": [
            "CPU times: user 135 ms, sys: 8.93 ms, total: 144 ms\n",
            "Wall time: 146 ms\n"
          ],
          "name": "stdout"
        }
      ]
    },
    {
      "cell_type": "markdown",
      "metadata": {
        "id": "MdjfirSwivFL",
        "colab_type": "text"
      },
      "source": [
        "### Bigrams"
      ]
    },
    {
      "cell_type": "code",
      "metadata": {
        "id": "1FqHqg0MJYJt",
        "colab_type": "code",
        "colab": {}
      },
      "source": [
        "phrases = Phrases(corpus, min_count=10, threshold = 50)\n",
        "bigram = Phraser(phrases)"
      ],
      "execution_count": 0,
      "outputs": []
    },
    {
      "cell_type": "code",
      "metadata": {
        "id": "p7GNgwuT14QY",
        "colab_type": "code",
        "colab": {}
      },
      "source": [
        "bgrams = []\n",
        "for sent in corpus:\n",
        "    bgrams.append(bigram[sent])    "
      ],
      "execution_count": 0,
      "outputs": []
    },
    {
      "cell_type": "code",
      "metadata": {
        "id": "YRdSiBIGfG5C",
        "colab_type": "code",
        "colab": {}
      },
      "source": [
        "flat_bgrams = [item for sublist in bgrams for item in sublist]     \n",
        "freq = nltk.FreqDist(flat_bgrams)\n",
        "freqdf = pd.DataFrame.from_dict(freq,orient='index')\n",
        "freqdf.to_csv('freq.csv')"
      ],
      "execution_count": 0,
      "outputs": []
    },
    {
      "cell_type": "code",
      "metadata": {
        "id": "W-4auVvicPPA",
        "colab_type": "code",
        "outputId": "84e5611f-d0a2-49e5-e9ae-22b06c90f8e1",
        "colab": {
          "base_uri": "https://localhost:8080/",
          "height": 208
        }
      },
      "source": [
        "i = 0\n",
        "for sent in bgrams:\n",
        "    for word in sent:\n",
        "        if \"_\" in word:\n",
        "            print(word)\n",
        "            i += 1\n",
        "    if i > 10:\n",
        "        break"
      ],
      "execution_count": 24,
      "outputs": [
        {
          "output_type": "stream",
          "text": [
            "number_four\n",
            "privet_drive\n",
            "number_four\n",
            "privet_drive\n",
            "privet_drive\n",
            "young_man\n",
            "minute_later\n",
            "five_clock\n",
            "rooted_spot\n",
            "number_four\n",
            "living_room\n"
          ],
          "name": "stdout"
        }
      ]
    },
    {
      "cell_type": "markdown",
      "metadata": {
        "id": "r4cGRRAEESEi",
        "colab_type": "text"
      },
      "source": [
        "# Word2Vec (Local)"
      ]
    },
    {
      "cell_type": "code",
      "metadata": {
        "id": "cJPRWj8y71kf",
        "colab_type": "code",
        "colab": {}
      },
      "source": [
        "word_bag = corpus"
      ],
      "execution_count": 0,
      "outputs": []
    },
    {
      "cell_type": "code",
      "metadata": {
        "id": "GXxgvGM8MEdC",
        "colab_type": "code",
        "outputId": "fe04d241-72b7-4989-e4b4-3e28f0252b1c",
        "colab": {
          "base_uri": "https://localhost:8080/",
          "height": 52
        }
      },
      "source": [
        "%%time\n",
        "model = Word2Vec(size = 300, window=5, min_count = 20, workers = -1)\n",
        "model.build_vocab(word_bag)\n",
        "\n",
        "model.train(word_bag, total_examples=model.corpus_count, epochs = 5)"
      ],
      "execution_count": 26,
      "outputs": [
        {
          "output_type": "stream",
          "text": [
            "CPU times: user 1 s, sys: 8.92 ms, total: 1.01 s\n",
            "Wall time: 1.02 s\n"
          ],
          "name": "stdout"
        }
      ]
    },
    {
      "cell_type": "code",
      "metadata": {
        "id": "SVK5xM51ET9k",
        "colab_type": "code",
        "outputId": "51e02771-6642-4c27-9f1d-562fcacbd027",
        "colab": {
          "base_uri": "https://localhost:8080/",
          "height": 34
        }
      },
      "source": [
        "'''\n",
        "%%time\n",
        "model = Word2Vec(word_bag, min_count=20, size = 300, workers = -1)\n",
        "model.save(\"word2vec.model\")\n",
        "'''"
      ],
      "execution_count": 27,
      "outputs": [
        {
          "output_type": "execute_result",
          "data": {
            "text/plain": [
              "'\\n%%time\\nmodel = Word2Vec(word_bag, min_count=20, size = 300, workers = -1)\\nmodel.save(\"word2vec.model\")\\n'"
            ]
          },
          "metadata": {
            "tags": []
          },
          "execution_count": 27
        }
      ]
    },
    {
      "cell_type": "markdown",
      "metadata": {
        "id": "DQ_Wlu3ci3kd",
        "colab_type": "text"
      },
      "source": [
        "## Results"
      ]
    },
    {
      "cell_type": "code",
      "metadata": {
        "id": "jE4pGfubEsAW",
        "colab_type": "code",
        "outputId": "1d0b2c91-15c5-44d1-ec4a-1467c4d4300f",
        "colab": {
          "base_uri": "https://localhost:8080/",
          "height": 190
        }
      },
      "source": [
        "list(model.wv.vocab)[0:10]"
      ],
      "execution_count": 28,
      "outputs": [
        {
          "output_type": "execute_result",
          "data": {
            "text/plain": [
              "['boy',\n",
              " 'lived',\n",
              " 'dursley',\n",
              " 'number',\n",
              " 'four',\n",
              " 'privet',\n",
              " 'drive',\n",
              " 'proud',\n",
              " 'say',\n",
              " 'perfectly']"
            ]
          },
          "metadata": {
            "tags": []
          },
          "execution_count": 28
        }
      ]
    },
    {
      "cell_type": "code",
      "metadata": {
        "id": "JLeA7WfBGX0F",
        "colab_type": "code",
        "outputId": "1da22385-e393-4c5d-8d3a-10d38f80408f",
        "colab": {
          "base_uri": "https://localhost:8080/",
          "height": 245
        }
      },
      "source": [
        "model.wv.most_similar(positive=[\"harry\"])"
      ],
      "execution_count": 29,
      "outputs": [
        {
          "output_type": "stream",
          "text": [
            "/usr/local/lib/python3.6/dist-packages/gensim/matutils.py:737: FutureWarning: Conversion of the second argument of issubdtype from `int` to `np.signedinteger` is deprecated. In future, it will be treated as `np.int64 == np.dtype(int).type`.\n",
            "  if np.issubdtype(vec.dtype, np.int):\n"
          ],
          "name": "stderr"
        },
        {
          "output_type": "execute_result",
          "data": {
            "text/plain": [
              "[('molly', 0.19838526844978333),\n",
              " ('shut', 0.18901100754737854),\n",
              " ('original', 0.1792946606874466),\n",
              " ('thoroughly', 0.1780172884464264),\n",
              " ('nodded', 0.17132221162319183),\n",
              " ('recognized', 0.16783234477043152),\n",
              " ('without', 0.16622556746006012),\n",
              " ('supposed', 0.16585727035999298),\n",
              " ('threshold', 0.16030767560005188),\n",
              " ('hogwarts', 0.15551047027111053)]"
            ]
          },
          "metadata": {
            "tags": []
          },
          "execution_count": 29
        }
      ]
    },
    {
      "cell_type": "code",
      "metadata": {
        "colab_type": "code",
        "outputId": "4a7c0f95-75dd-4d00-8e1b-7d7e9a9441a6",
        "id": "Xo-nuQFT5_yD",
        "colab": {
          "base_uri": "https://localhost:8080/",
          "height": 245
        }
      },
      "source": [
        "model.wv.most_similar(positive=[\"potter\"])"
      ],
      "execution_count": 30,
      "outputs": [
        {
          "output_type": "stream",
          "text": [
            "/usr/local/lib/python3.6/dist-packages/gensim/matutils.py:737: FutureWarning: Conversion of the second argument of issubdtype from `int` to `np.signedinteger` is deprecated. In future, it will be treated as `np.int64 == np.dtype(int).type`.\n",
            "  if np.issubdtype(vec.dtype, np.int):\n"
          ],
          "name": "stderr"
        },
        {
          "output_type": "execute_result",
          "data": {
            "text/plain": [
              "[('wide', 0.1999313235282898),\n",
              " ('owner', 0.1796487271785736),\n",
              " ('yesterday', 0.17470750212669373),\n",
              " ('conversation', 0.16851602494716644),\n",
              " ('sat', 0.16233819723129272),\n",
              " ('feel', 0.15860338509082794),\n",
              " ('guarding', 0.15856021642684937),\n",
              " ('cheerfully', 0.1579795479774475),\n",
              " ('gaunt', 0.1577623337507248),\n",
              " ('mistake', 0.1568850427865982)]"
            ]
          },
          "metadata": {
            "tags": []
          },
          "execution_count": 30
        }
      ]
    },
    {
      "cell_type": "code",
      "metadata": {
        "id": "PV6DKH5nuagw",
        "colab_type": "code",
        "outputId": "f0481db8-4721-4409-8f44-76f407f50d83",
        "colab": {
          "base_uri": "https://localhost:8080/",
          "height": 245
        }
      },
      "source": [
        "model.wv.most_similar(positive=[\"voldemort\"])"
      ],
      "execution_count": 31,
      "outputs": [
        {
          "output_type": "stream",
          "text": [
            "/usr/local/lib/python3.6/dist-packages/gensim/matutils.py:737: FutureWarning: Conversion of the second argument of issubdtype from `int` to `np.signedinteger` is deprecated. In future, it will be treated as `np.int64 == np.dtype(int).type`.\n",
            "  if np.issubdtype(vec.dtype, np.int):\n"
          ],
          "name": "stderr"
        },
        {
          "output_type": "execute_result",
          "data": {
            "text/plain": [
              "[('advice', 0.22290074825286865),\n",
              " ('everyone', 0.20699702203273773),\n",
              " ('fond', 0.17761681973934174),\n",
              " ('month', 0.17724180221557617),\n",
              " ('figure', 0.1729629933834076),\n",
              " ('staying', 0.16827571392059326),\n",
              " ('disappointment', 0.1682014763355255),\n",
              " ('jar', 0.16677328944206238),\n",
              " ('hello', 0.16217169165611267),\n",
              " ('five', 0.16051316261291504)]"
            ]
          },
          "metadata": {
            "tags": []
          },
          "execution_count": 31
        }
      ]
    },
    {
      "cell_type": "code",
      "metadata": {
        "id": "-6SkBwVcwxAO",
        "colab_type": "code",
        "outputId": "9e2e5d09-2c56-40c8-cbde-04eca2b3a8ac",
        "colab": {
          "base_uri": "https://localhost:8080/",
          "height": 245
        }
      },
      "source": [
        "model.wv.most_similar(positive=[\"hogwarts\"])"
      ],
      "execution_count": 32,
      "outputs": [
        {
          "output_type": "stream",
          "text": [
            "/usr/local/lib/python3.6/dist-packages/gensim/matutils.py:737: FutureWarning: Conversion of the second argument of issubdtype from `int` to `np.signedinteger` is deprecated. In future, it will be treated as `np.int64 == np.dtype(int).type`.\n",
            "  if np.issubdtype(vec.dtype, np.int):\n"
          ],
          "name": "stderr"
        },
        {
          "output_type": "execute_result",
          "data": {
            "text/plain": [
              "[('graveyard', 0.18303154408931732),\n",
              " ('midst', 0.18124863505363464),\n",
              " ('self', 0.17502057552337646),\n",
              " ('beat', 0.17166206240653992),\n",
              " ('echoing', 0.17068055272102356),\n",
              " ('play', 0.1682247519493103),\n",
              " ('torn', 0.1622982621192932),\n",
              " ('dead', 0.15949660539627075),\n",
              " ('necessary', 0.1590462327003479),\n",
              " ('stopped', 0.15715521574020386)]"
            ]
          },
          "metadata": {
            "tags": []
          },
          "execution_count": 32
        }
      ]
    },
    {
      "cell_type": "code",
      "metadata": {
        "colab_type": "code",
        "outputId": "b9ec764f-fc18-4417-809d-216a014b5e07",
        "id": "BJoHAlie6Fy4",
        "colab": {
          "base_uri": "https://localhost:8080/",
          "height": 245
        }
      },
      "source": [
        "model.wv.most_similar(positive=[\"horcrux\"])"
      ],
      "execution_count": 33,
      "outputs": [
        {
          "output_type": "stream",
          "text": [
            "/usr/local/lib/python3.6/dist-packages/gensim/matutils.py:737: FutureWarning: Conversion of the second argument of issubdtype from `int` to `np.signedinteger` is deprecated. In future, it will be treated as `np.int64 == np.dtype(int).type`.\n",
            "  if np.issubdtype(vec.dtype, np.int):\n"
          ],
          "name": "stderr"
        },
        {
          "output_type": "execute_result",
          "data": {
            "text/plain": [
              "[('situation', 0.2367812991142273),\n",
              " ('promptly', 0.22015978395938873),\n",
              " ('school', 0.17702756822109222),\n",
              " ('picture', 0.1733391135931015),\n",
              " ('pull', 0.17176119983196259),\n",
              " ('young', 0.17109423875808716),\n",
              " ('briskly', 0.1700482964515686),\n",
              " ('keeper', 0.16915090382099152),\n",
              " ('shown', 0.16410572826862335),\n",
              " ('snarled', 0.16379988193511963)]"
            ]
          },
          "metadata": {
            "tags": []
          },
          "execution_count": 33
        }
      ]
    },
    {
      "cell_type": "code",
      "metadata": {
        "id": "7IoWvfy67Y-J",
        "colab_type": "code",
        "outputId": "d6c1092f-050e-4009-b28c-5409ce67322b",
        "colab": {
          "base_uri": "https://localhost:8080/",
          "height": 89
        }
      },
      "source": [
        "model.wv.similarity(\"gryffindor\", 'slytherin')"
      ],
      "execution_count": 34,
      "outputs": [
        {
          "output_type": "stream",
          "text": [
            "/usr/local/lib/python3.6/dist-packages/gensim/matutils.py:737: FutureWarning: Conversion of the second argument of issubdtype from `int` to `np.signedinteger` is deprecated. In future, it will be treated as `np.int64 == np.dtype(int).type`.\n",
            "  if np.issubdtype(vec.dtype, np.int):\n"
          ],
          "name": "stderr"
        },
        {
          "output_type": "execute_result",
          "data": {
            "text/plain": [
              "0.0060571204"
            ]
          },
          "metadata": {
            "tags": []
          },
          "execution_count": 34
        }
      ]
    },
    {
      "cell_type": "code",
      "metadata": {
        "id": "Ws9ytI5F8rwu",
        "colab_type": "code",
        "outputId": "3fde0221-e62f-419b-f2b5-e9e6df6160fa",
        "colab": {
          "base_uri": "https://localhost:8080/",
          "height": 89
        }
      },
      "source": [
        "model.wv.similarity(\"harry\", 'hagrid')"
      ],
      "execution_count": 35,
      "outputs": [
        {
          "output_type": "stream",
          "text": [
            "/usr/local/lib/python3.6/dist-packages/gensim/matutils.py:737: FutureWarning: Conversion of the second argument of issubdtype from `int` to `np.signedinteger` is deprecated. In future, it will be treated as `np.int64 == np.dtype(int).type`.\n",
            "  if np.issubdtype(vec.dtype, np.int):\n"
          ],
          "name": "stderr"
        },
        {
          "output_type": "execute_result",
          "data": {
            "text/plain": [
              "0.070742436"
            ]
          },
          "metadata": {
            "tags": []
          },
          "execution_count": 35
        }
      ]
    },
    {
      "cell_type": "markdown",
      "metadata": {
        "id": "X5gUZQKU-6DO",
        "colab_type": "text"
      },
      "source": [
        "# Google word2Vec"
      ]
    },
    {
      "cell_type": "code",
      "metadata": {
        "id": "rUWYNmdZ-73n",
        "colab_type": "code",
        "outputId": "bc1c3c5a-146c-4cf8-eea6-f158a2d3c118",
        "colab": {
          "base_uri": "https://localhost:8080/",
          "height": 138
        }
      },
      "source": [
        "!wget -P /root/input/ -c \"https://s3.amazonaws.com/dl4j-distribution/GoogleNews-vectors-negative300.bin.gz\""
      ],
      "execution_count": 36,
      "outputs": [
        {
          "output_type": "stream",
          "text": [
            "--2020-01-03 13:06:21--  https://s3.amazonaws.com/dl4j-distribution/GoogleNews-vectors-negative300.bin.gz\n",
            "Resolving s3.amazonaws.com (s3.amazonaws.com)... 52.216.84.205\n",
            "Connecting to s3.amazonaws.com (s3.amazonaws.com)|52.216.84.205|:443... connected.\n",
            "HTTP request sent, awaiting response... 416 Requested Range Not Satisfiable\n",
            "\n",
            "    The file is already fully retrieved; nothing to do.\n",
            "\n"
          ],
          "name": "stdout"
        }
      ]
    },
    {
      "cell_type": "code",
      "metadata": {
        "id": "4FaGBRkx-8jS",
        "colab_type": "code",
        "outputId": "91cc4011-d121-4c98-9ded-cd6b140c4209",
        "colab": {
          "base_uri": "https://localhost:8080/",
          "height": 72
        }
      },
      "source": [
        "EMBEDDING_FILE = '/root/input/GoogleNews-vectors-negative300.bin.gz'\n",
        "google_word2vec = KeyedVectors.load_word2vec_format(EMBEDDING_FILE, binary=True)"
      ],
      "execution_count": 37,
      "outputs": [
        {
          "output_type": "stream",
          "text": [
            "/usr/local/lib/python3.6/dist-packages/smart_open/smart_open_lib.py:402: UserWarning: This function is deprecated, use smart_open.open instead. See the migration notes for details: https://github.com/RaRe-Technologies/smart_open/blob/master/README.rst#migrating-to-the-new-open-function\n",
            "  'See the migration notes for details: %s' % _MIGRATION_NOTES_URL\n"
          ],
          "name": "stderr"
        }
      ]
    },
    {
      "cell_type": "markdown",
      "metadata": {
        "id": "b80zDpfSi8z0",
        "colab_type": "text"
      },
      "source": [
        "## Intersect local Model with Google Word2vec model"
      ]
    },
    {
      "cell_type": "code",
      "metadata": {
        "id": "XbxHzKvEL54s",
        "colab_type": "code",
        "colab": {
          "base_uri": "https://localhost:8080/",
          "height": 106
        },
        "outputId": "1716b8a0-76cf-4d1c-df81-878c4722dbc9"
      },
      "source": [
        "%%time\n",
        "google_model = Word2Vec(size = 300, window=5, min_count = 20, workers = -1)\n",
        "google_model.build_vocab(word_bag)\n",
        "\n",
        "#model.intersect_word2vec_format('./word2vec/GoogleNews-vectors-negative300.bin', lockf=1.0, binary=True)\n",
        "\n",
        "google_model.intersect_word2vec_format(EMBEDDING_FILE, lockf=1.0, binary=True)\n",
        "\n",
        "google_model.train(word_bag, total_examples=google_model.corpus_count, epochs = 5)"
      ],
      "execution_count": 39,
      "outputs": [
        {
          "output_type": "stream",
          "text": [
            "/usr/local/lib/python3.6/dist-packages/smart_open/smart_open_lib.py:402: UserWarning: This function is deprecated, use smart_open.open instead. See the migration notes for details: https://github.com/RaRe-Technologies/smart_open/blob/master/README.rst#migrating-to-the-new-open-function\n",
            "  'See the migration notes for details: %s' % _MIGRATION_NOTES_URL\n"
          ],
          "name": "stderr"
        },
        {
          "output_type": "stream",
          "text": [
            "CPU times: user 1min 25s, sys: 805 ms, total: 1min 26s\n",
            "Wall time: 1min 26s\n"
          ],
          "name": "stdout"
        }
      ]
    },
    {
      "cell_type": "markdown",
      "metadata": {
        "id": "XpnGpi2JjB4k",
        "colab_type": "text"
      },
      "source": [
        "## Results"
      ]
    },
    {
      "cell_type": "code",
      "metadata": {
        "id": "y2hCVrhIXnMk",
        "colab_type": "code",
        "colab": {
          "base_uri": "https://localhost:8080/",
          "height": 245
        },
        "outputId": "0aa2eebc-3d6f-4e10-89eb-db73e8619526"
      },
      "source": [
        "google_model.wv.most_similar(positive=[\"harry\"])"
      ],
      "execution_count": 40,
      "outputs": [
        {
          "output_type": "stream",
          "text": [
            "/usr/local/lib/python3.6/dist-packages/gensim/matutils.py:737: FutureWarning: Conversion of the second argument of issubdtype from `int` to `np.signedinteger` is deprecated. In future, it will be treated as `np.int64 == np.dtype(int).type`.\n",
            "  if np.issubdtype(vec.dtype, np.int):\n"
          ],
          "name": "stderr"
        },
        {
          "output_type": "execute_result",
          "data": {
            "text/plain": [
              "[('neville', 0.5812051296234131),\n",
              " ('mr', 0.555977463722229),\n",
              " ('dennis', 0.5308670997619629),\n",
              " ('james', 0.5300297737121582),\n",
              " ('robert', 0.5231185555458069),\n",
              " ('arry', 0.520870566368103),\n",
              " ('johnson', 0.5157880783081055),\n",
              " ('dont', 0.4983846843242645),\n",
              " ('charlie', 0.49837130308151245),\n",
              " ('thomas', 0.48531270027160645)]"
            ]
          },
          "metadata": {
            "tags": []
          },
          "execution_count": 40
        }
      ]
    },
    {
      "cell_type": "code",
      "metadata": {
        "colab_type": "code",
        "outputId": "c43a2691-1d2b-4a45-a625-4299c3472f01",
        "id": "Zdc8XA_0akO_",
        "colab": {
          "base_uri": "https://localhost:8080/",
          "height": 245
        }
      },
      "source": [
        "google_model.wv.most_similar(positive=[\"potter\"])"
      ],
      "execution_count": 41,
      "outputs": [
        {
          "output_type": "stream",
          "text": [
            "/usr/local/lib/python3.6/dist-packages/gensim/matutils.py:737: FutureWarning: Conversion of the second argument of issubdtype from `int` to `np.signedinteger` is deprecated. In future, it will be treated as `np.int64 == np.dtype(int).type`.\n",
            "  if np.issubdtype(vec.dtype, np.int):\n"
          ],
          "name": "stderr"
        },
        {
          "output_type": "execute_result",
          "data": {
            "text/plain": [
              "[('art', 0.4490913152694702),\n",
              " ('painting', 0.4103425443172455),\n",
              " ('mead', 0.3641393482685089),\n",
              " ('garden', 0.3624359369277954),\n",
              " ('flower', 0.35996729135513306),\n",
              " ('flint', 0.33174169063568115),\n",
              " ('herbology', 0.33140838146209717),\n",
              " ('pumpkin', 0.3254821300506592),\n",
              " ('willow', 0.32443472743034363),\n",
              " ('stone', 0.3094981610774994)]"
            ]
          },
          "metadata": {
            "tags": []
          },
          "execution_count": 41
        }
      ]
    },
    {
      "cell_type": "code",
      "metadata": {
        "colab_type": "code",
        "outputId": "c55fc2ed-d05f-48f4-e0da-7510a64d1c3c",
        "id": "osiyWhqvakPY",
        "colab": {
          "base_uri": "https://localhost:8080/",
          "height": 245
        }
      },
      "source": [
        "google_model.wv.most_similar(positive=[\"voldemort\"])"
      ],
      "execution_count": 51,
      "outputs": [
        {
          "output_type": "stream",
          "text": [
            "/usr/local/lib/python3.6/dist-packages/gensim/matutils.py:737: FutureWarning: Conversion of the second argument of issubdtype from `int` to `np.signedinteger` is deprecated. In future, it will be treated as `np.int64 == np.dtype(int).type`.\n",
            "  if np.issubdtype(vec.dtype, np.int):\n"
          ],
          "name": "stderr"
        },
        {
          "output_type": "execute_result",
          "data": {
            "text/plain": [
              "[('god', 0.6350281238555908),\n",
              " ('knight', 0.4713427424430847),\n",
              " ('evil', 0.46526503562927246),\n",
              " ('heaven', 0.4486253559589386),\n",
              " ('sorcerer', 0.42839527130126953),\n",
              " ('sir', 0.42287835478782654),\n",
              " ('warlock', 0.4114571213722229),\n",
              " ('servant', 0.403384268283844),\n",
              " ('prince', 0.4027935862541199),\n",
              " ('king', 0.3985804319381714)]"
            ]
          },
          "metadata": {
            "tags": []
          },
          "execution_count": 51
        }
      ]
    },
    {
      "cell_type": "code",
      "metadata": {
        "colab_type": "code",
        "outputId": "9c5ba940-cbea-4b18-e3cf-dc9d3e084a5a",
        "id": "4vQw2hFNap_K",
        "colab": {
          "base_uri": "https://localhost:8080/",
          "height": 245
        }
      },
      "source": [
        "google_model.wv.most_similar(positive=[\"hogwarts\"])"
      ],
      "execution_count": 43,
      "outputs": [
        {
          "output_type": "stream",
          "text": [
            "/usr/local/lib/python3.6/dist-packages/gensim/matutils.py:737: FutureWarning: Conversion of the second argument of issubdtype from `int` to `np.signedinteger` is deprecated. In future, it will be treated as `np.int64 == np.dtype(int).type`.\n",
            "  if np.issubdtype(vec.dtype, np.int):\n"
          ],
          "name": "stderr"
        },
        {
          "output_type": "execute_result",
          "data": {
            "text/plain": [
              "[('advanced', 0.19666540622711182),\n",
              " ('place', 0.1936536431312561),\n",
              " ('graveyard', 0.18688777089118958),\n",
              " ('alive', 0.1808253824710846),\n",
              " ('late', 0.1773623377084732),\n",
              " ('bell', 0.17182034254074097),\n",
              " ('abandoned', 0.1697089523077011),\n",
              " ('prime', 0.16884028911590576),\n",
              " ('halloween', 0.16830234229564667),\n",
              " ('regular', 0.1680608093738556)]"
            ]
          },
          "metadata": {
            "tags": []
          },
          "execution_count": 43
        }
      ]
    },
    {
      "cell_type": "code",
      "metadata": {
        "colab_type": "code",
        "outputId": "edbc9243-1437-4db7-c881-ecaa1c5245b2",
        "id": "dWA3UWA-ap_U",
        "colab": {
          "base_uri": "https://localhost:8080/",
          "height": 245
        }
      },
      "source": [
        "google_model.wv.most_similar(positive=[\"horcrux\"])"
      ],
      "execution_count": 44,
      "outputs": [
        {
          "output_type": "stream",
          "text": [
            "/usr/local/lib/python3.6/dist-packages/gensim/matutils.py:737: FutureWarning: Conversion of the second argument of issubdtype from `int` to `np.signedinteger` is deprecated. In future, it will be treated as `np.int64 == np.dtype(int).type`.\n",
            "  if np.issubdtype(vec.dtype, np.int):\n"
          ],
          "name": "stderr"
        },
        {
          "output_type": "execute_result",
          "data": {
            "text/plain": [
              "[('horcruxes', 0.6242253184318542),\n",
              " ('dementors', 0.6012237071990967),\n",
              " ('basilisk', 0.5296100974082947),\n",
              " ('dementor', 0.5282191038131714),\n",
              " ('locket', 0.4928228259086609),\n",
              " ('hippogriff', 0.48730671405792236),\n",
              " ('muggle', 0.4694926142692566),\n",
              " ('werewolf', 0.460193932056427),\n",
              " ('rune', 0.43476802110671997),\n",
              " ('hallows', 0.43337249755859375)]"
            ]
          },
          "metadata": {
            "tags": []
          },
          "execution_count": 44
        }
      ]
    },
    {
      "cell_type": "code",
      "metadata": {
        "colab_type": "code",
        "outputId": "b54d3d33-483c-4764-9054-8beeedbadaea",
        "id": "TbTn_eNfap_c",
        "colab": {
          "base_uri": "https://localhost:8080/",
          "height": 89
        }
      },
      "source": [
        "google_model.wv.similarity(\"voldemort\", 'slytherin')"
      ],
      "execution_count": 45,
      "outputs": [
        {
          "output_type": "stream",
          "text": [
            "/usr/local/lib/python3.6/dist-packages/gensim/matutils.py:737: FutureWarning: Conversion of the second argument of issubdtype from `int` to `np.signedinteger` is deprecated. In future, it will be treated as `np.int64 == np.dtype(int).type`.\n",
            "  if np.issubdtype(vec.dtype, np.int):\n"
          ],
          "name": "stderr"
        },
        {
          "output_type": "execute_result",
          "data": {
            "text/plain": [
              "0.025380021"
            ]
          },
          "metadata": {
            "tags": []
          },
          "execution_count": 45
        }
      ]
    },
    {
      "cell_type": "code",
      "metadata": {
        "colab_type": "code",
        "outputId": "caed702b-20b5-4a46-c35b-d9a39ea2314f",
        "id": "hhednrmCap_h",
        "colab": {
          "base_uri": "https://localhost:8080/",
          "height": 89
        }
      },
      "source": [
        "google_model.wv.similarity(\"harry\", 'hagrid')"
      ],
      "execution_count": 46,
      "outputs": [
        {
          "output_type": "stream",
          "text": [
            "/usr/local/lib/python3.6/dist-packages/gensim/matutils.py:737: FutureWarning: Conversion of the second argument of issubdtype from `int` to `np.signedinteger` is deprecated. In future, it will be treated as `np.int64 == np.dtype(int).type`.\n",
            "  if np.issubdtype(vec.dtype, np.int):\n"
          ],
          "name": "stderr"
        },
        {
          "output_type": "execute_result",
          "data": {
            "text/plain": [
              "-0.0052783852"
            ]
          },
          "metadata": {
            "tags": []
          },
          "execution_count": 46
        }
      ]
    },
    {
      "cell_type": "code",
      "metadata": {
        "colab_type": "code",
        "outputId": "20b28917-eef5-442e-9707-63f12095294c",
        "id": "d2_9zXPZbNnY",
        "colab": {
          "base_uri": "https://localhost:8080/",
          "height": 89
        }
      },
      "source": [
        "google_model.wv.similarity(\"harry\", 'gryffindor')"
      ],
      "execution_count": 47,
      "outputs": [
        {
          "output_type": "stream",
          "text": [
            "/usr/local/lib/python3.6/dist-packages/gensim/matutils.py:737: FutureWarning: Conversion of the second argument of issubdtype from `int` to `np.signedinteger` is deprecated. In future, it will be treated as `np.int64 == np.dtype(int).type`.\n",
            "  if np.issubdtype(vec.dtype, np.int):\n"
          ],
          "name": "stderr"
        },
        {
          "output_type": "execute_result",
          "data": {
            "text/plain": [
              "-0.055337477"
            ]
          },
          "metadata": {
            "tags": []
          },
          "execution_count": 47
        }
      ]
    },
    {
      "cell_type": "code",
      "metadata": {
        "colab_type": "code",
        "outputId": "9280e8f3-964f-4828-bab4-2ceb5eea0cb8",
        "id": "DPjhk_wGb6n3",
        "colab": {
          "base_uri": "https://localhost:8080/",
          "height": 89
        }
      },
      "source": [
        "google_model.wv.similarity(\"lupin\", 'werewolf')"
      ],
      "execution_count": 48,
      "outputs": [
        {
          "output_type": "stream",
          "text": [
            "/usr/local/lib/python3.6/dist-packages/gensim/matutils.py:737: FutureWarning: Conversion of the second argument of issubdtype from `int` to `np.signedinteger` is deprecated. In future, it will be treated as `np.int64 == np.dtype(int).type`.\n",
            "  if np.issubdtype(vec.dtype, np.int):\n"
          ],
          "name": "stderr"
        },
        {
          "output_type": "execute_result",
          "data": {
            "text/plain": [
              "0.0011458562"
            ]
          },
          "metadata": {
            "tags": []
          },
          "execution_count": 48
        }
      ]
    },
    {
      "cell_type": "code",
      "metadata": {
        "id": "LFa1CSMFdX6l",
        "colab_type": "code",
        "colab": {
          "base_uri": "https://localhost:8080/",
          "height": 245
        },
        "outputId": "73f2349b-cf89-4cc6-d8cd-a3b3aa2d1846"
      },
      "source": [
        "google_model.wv.most_similar(positive=[\"basilisk\"])"
      ],
      "execution_count": 49,
      "outputs": [
        {
          "output_type": "stream",
          "text": [
            "/usr/local/lib/python3.6/dist-packages/gensim/matutils.py:737: FutureWarning: Conversion of the second argument of issubdtype from `int` to `np.signedinteger` is deprecated. In future, it will be treated as `np.int64 == np.dtype(int).type`.\n",
            "  if np.issubdtype(vec.dtype, np.int):\n"
          ],
          "name": "stderr"
        },
        {
          "output_type": "execute_result",
          "data": {
            "text/plain": [
              "[('dementors', 0.6436929702758789),\n",
              " ('hippogriff', 0.567786455154419),\n",
              " ('dementor', 0.5650946497917175),\n",
              " ('creature', 0.5508249998092651),\n",
              " ('gargoyle', 0.549191415309906),\n",
              " ('spider', 0.5463741421699524),\n",
              " ('serpent', 0.5414613485336304),\n",
              " ('goblin', 0.5300490260124207),\n",
              " ('horcrux', 0.5296101570129395),\n",
              " ('dragon', 0.502647340297699)]"
            ]
          },
          "metadata": {
            "tags": []
          },
          "execution_count": 49
        }
      ]
    },
    {
      "cell_type": "code",
      "metadata": {
        "id": "G0MukdjJiCh3",
        "colab_type": "code",
        "colab": {
          "base_uri": "https://localhost:8080/",
          "height": 245
        },
        "outputId": "6ee44d4c-4a81-4bab-8965-2d9acd6102d9"
      },
      "source": [
        "google_model.wv.most_similar(positive=[\"quidditch\"])"
      ],
      "execution_count": 52,
      "outputs": [
        {
          "output_type": "stream",
          "text": [
            "/usr/local/lib/python3.6/dist-packages/gensim/matutils.py:737: FutureWarning: Conversion of the second argument of issubdtype from `int` to `np.signedinteger` is deprecated. In future, it will be treated as `np.int64 == np.dtype(int).type`.\n",
            "  if np.issubdtype(vec.dtype, np.int):\n"
          ],
          "name": "stderr"
        },
        {
          "output_type": "execute_result",
          "data": {
            "text/plain": [
              "[('muggle', 0.5214775800704956),\n",
              " ('wizarding', 0.47505366802215576),\n",
              " ('quaffle', 0.4732670187950134),\n",
              " ('dementors', 0.4503976106643677),\n",
              " ('muggles', 0.4465000629425049),\n",
              " ('ludo', 0.3921332359313965),\n",
              " ('dementor', 0.3704177141189575),\n",
              " ('werewolf', 0.3695617616176605),\n",
              " ('broomstick', 0.3691725432872772),\n",
              " ('hippogriff', 0.36648988723754883)]"
            ]
          },
          "metadata": {
            "tags": []
          },
          "execution_count": 52
        }
      ]
    },
    {
      "cell_type": "code",
      "metadata": {
        "id": "2RRAMpQ0iIk8",
        "colab_type": "code",
        "colab": {
          "base_uri": "https://localhost:8080/",
          "height": 245
        },
        "outputId": "27ebe904-44cf-47d3-d9cb-ee022465c190"
      },
      "source": [
        "google_model.wv.most_similar(positive=[\"wand\"])"
      ],
      "execution_count": 56,
      "outputs": [
        {
          "output_type": "stream",
          "text": [
            "/usr/local/lib/python3.6/dist-packages/gensim/matutils.py:737: FutureWarning: Conversion of the second argument of issubdtype from `int` to `np.signedinteger` is deprecated. In future, it will be treated as `np.int64 == np.dtype(int).type`.\n",
            "  if np.issubdtype(vec.dtype, np.int):\n"
          ],
          "name": "stderr"
        },
        {
          "output_type": "execute_result",
          "data": {
            "text/plain": [
              "[('broom', 0.531521201133728),\n",
              " ('broomstick', 0.46065953373908997),\n",
              " ('dementors', 0.4059273600578308),\n",
              " ('hippogriff', 0.3880380690097809),\n",
              " ('basilisk', 0.3835200071334839),\n",
              " ('sword', 0.38140869140625),\n",
              " ('dementor', 0.3698751628398895),\n",
              " ('gently', 0.3696576952934265),\n",
              " ('button', 0.3636736273765564),\n",
              " ('muggle', 0.3636331856250763)]"
            ]
          },
          "metadata": {
            "tags": []
          },
          "execution_count": 56
        }
      ]
    }
  ]
}